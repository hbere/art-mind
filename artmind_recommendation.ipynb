{
 "cells": [
  {
   "cell_type": "code",
   "execution_count": 1,
   "metadata": {
    "collapsed": true
   },
   "outputs": [],
   "source": [
    "import pandas as pd\n",
    "import numpy as np\n",
    "import requests \n",
    "import itertools"
   ]
  },
  {
   "cell_type": "code",
   "execution_count": 2,
   "metadata": {
    "collapsed": true
   },
   "outputs": [],
   "source": [
    "#read the data file which contains features of the objects in the Hackathon galleries\n",
    "features = pd.read_csv(\"limited_objectinfo.csv\", encoding = 'latin-1') "
   ]
  },
  {
   "cell_type": "code",
   "execution_count": 3,
   "metadata": {
    "collapsed": true
   },
   "outputs": [],
   "source": [
    "#create a list of the object ids of the ten works which the user is shown.\n",
    "tenworks = pd.read_excel(\"tenworks.xlsx\")\n",
    "obj = list(tenworks.ObjectID)"
   ]
  },
  {
   "cell_type": "code",
   "execution_count": 7,
   "metadata": {
    "collapsed": true
   },
   "outputs": [],
   "source": [
    "def featmat(obj, pref) : \n",
    "    feat = pd.read_csv(\"limited_objectinfo.csv\", encoding='latin-1')\n",
    "    feat.drop([\"Geography\"], axis = 1, inplace = True)\n",
    "    feat = pd.get_dummies(feat, columns = [\"Classification\", \"Style\"]) \n",
    "    \n",
    "    #reindex according to ObjectID\n",
    "    df = feat.set_index(\"ObjectID\")\n",
    "    df.fillna(0, inplace = True) \n",
    "    df.drop([\"Unnamed: 0\"], axis = 1, inplace = True)\n",
    "   \n",
    "    #feature_matrix will contain only the ten rows corresponding to the art shown to the user\n",
    "    feature_matrix = df.loc[obj]\n",
    "\n",
    "    #feature_matrix.drop([\"Unnamed: 0\"], axis = 1, inplace = True)\n",
    "\n",
    "    adapted_matrix = np.zeros((10,np.shape(feature_matrix)[1] )) \n",
    "\n",
    "    for i in range(len(pref)) : \n",
    "        adapted_matrix[i] = pref[i] * feature_matrix.iloc[i]\n",
    "\n",
    "    #for each column, find the mean\n",
    "    feature_means = adapted_matrix.mean(axis = 0) \n",
    " \n",
    "    norms = []\n",
    "    for ind in df.index : \n",
    "        norms.append({\"objid\":ind, \"norm\":np.linalg.norm(np.array(df.loc[ind])-np.array(feature_means), ord = 1)})\n",
    "    norms_df = pd.DataFrame(norms)\n",
    "    norms_df.sort_values(\"norm\", axis =0, inplace = True)\n",
    "\n",
    "    normalized = [1-1/(1+norms_df.norm.iloc[i]) for i in range(len(norms_df))]\n",
    "    norms_df[\"normalized\"] = normalized \n",
    "    norms_df.sort_values(\"normalized\", axis = 0, ascending = False, inplace = True) \n",
    "\n",
    "    return(norms_df) \n",
    "    "
   ]
  },
  {
   "cell_type": "code",
   "execution_count": 5,
   "metadata": {
    "collapsed": true
   },
   "outputs": [],
   "source": [
    "pref = [1,1,-1,-1,-1,1,-1,-1, -1, 1] \n",
    "k = featmat(obj, pref)"
   ]
  },
  {
   "cell_type": "code",
   "execution_count": null,
   "metadata": {
    "collapsed": true
   },
   "outputs": [],
   "source": [
    "frames = [] \n",
    "for ind in range(1024) : \n",
    "    top3 = list(featmat(obj, l[ind]).objid ) \n",
    "    rating_dict = {\"index\":ind, \"value\":top3}\n",
    "    frames.append(rating_dict) \n",
    "    if ind%100 == 0 : \n",
    "           print(ind) "
   ]
  }
 ],
 "metadata": {
  "kernelspec": {
   "display_name": "Python 3",
   "language": "python",
   "name": "python3"
  },
  "language_info": {
   "codemirror_mode": {
    "name": "ipython",
    "version": 3
   },
   "file_extension": ".py",
   "mimetype": "text/x-python",
   "name": "python",
   "nbconvert_exporter": "python",
   "pygments_lexer": "ipython3",
   "version": "3.6.3"
  }
 },
 "nbformat": 4,
 "nbformat_minor": 2
}
