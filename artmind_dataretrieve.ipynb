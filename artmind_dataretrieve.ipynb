{
 "cells": [
  {
   "cell_type": "markdown",
   "metadata": {
    "collapsed": true
   },
   "source": [
    "<font color = \"purple\"> First, retrieve a list of available `ObjectID`s according to Gallery number."
   ]
  },
  {
   "cell_type": "code",
   "execution_count": 6,
   "metadata": {
    "collapsed": true
   },
   "outputs": [],
   "source": [
    "import requests\n",
    "import pandas as pd\n",
    "\n",
    "#a function which takes a PMA API access token and list of gallery numbers  \n",
    "#and saves to disk a csv file of object ids of objects in the given galleries. \n",
    "\n",
    "def get_objectids(token, galleries) : \n",
    "    frames = []\n",
    "    url = \"https://hackathon.philamuseum.org/api/v0/collection/object/location\"\n",
    "\n",
    "    for name in galleries : \n",
    "        param = {\"api_token\":token, \"name\":name} \n",
    "        r = requests.get(url, param) \n",
    "    \n",
    "        if r.status_code == 200: \n",
    "            data = r.json()\n",
    "            ids = data[\"ObjectIDs\"]\n",
    "            num_of_objects = len(ids) \n",
    "            loc = [name for i in range(num_of_objects)]\n",
    "        \n",
    "            d = {\"Gallery Name\": loc, \"ObjectID\": ids} \n",
    "            df = pd.DataFrame(data = d) \n",
    "        \n",
    "            frames.append(df) \n",
    "            \n",
    "    objectids = pd.concat(frames)\n",
    "    objectids.to_csv(\"objectids.csv\", index = False)     "
   ]
  },
  {
   "cell_type": "code",
   "execution_count": 12,
   "metadata": {
    "collapsed": true
   },
   "outputs": [],
   "source": [
    "#create a list of ALL galleries in the PMA and retrieve objectids for this list. \n",
    "\n",
    "g1 = [i for i in range(100,125)]\n",
    "g2 = [i for i in range(150,189)] \n",
    "g3 = [\"165a\", \"167a\"] \n",
    "\n",
    "g4 = [i for i in range(200,300)] \n",
    "g5 = [\"213a\", \"233a\", \"240a\", \"276a\", \"277a\", \"290a\"] \n",
    "\n",
    "gallery_numbers = g1 + g2 + g3 + g4 + g5\n",
    "\n",
    "get_objectids(token, gallery_numbers) "
   ]
  },
  {
   "cell_type": "markdown",
   "metadata": {},
   "source": [
    "<font color = \"purple\"> Having gathered a list of `ObjectID`s, retrieve info about the objects. "
   ]
  },
  {
   "cell_type": "code",
   "execution_count": 7,
   "metadata": {},
   "outputs": [],
   "source": [
    "import pandas as pd\n",
    "import numpy as np\n",
    "import requests \n",
    "\n",
    "#a function which takes a PMA API access token and list of object ids   \n",
    "#and saves to disk a csv file of features for each object id\n",
    "\n",
    "def get_objectinfo(token, ids) : \n",
    "\n",
    "    #parameters to be passed into the api request, and then making the api request\n",
    "    p = {\"api_token\":token, \"objectId\":ids[0]} \n",
    "    req = requests.get(url, p) \n",
    "\n",
    "    #write the first row of the DataFrame, if the status code is successful. \n",
    "    #then extract relevant features from the json output, and write this as the next row of the DataFrame.\n",
    "    if req.status_code == 200 : \n",
    "        js = req.json() \n",
    "        obj_features = [[js[\"ObjectID\"], js[\"Classification\"],js[\"Style\"], js[\"Dated\"], js[\"SocialTags\"] ] ]\n",
    "        df = pd.DataFrame(obj_features, columns =[\"ObjectID\", \"Classification\", \"Style\", \"Dated\", \"SocialTags\"]) \n",
    "        df.to_csv(\"objectinfo.csv\", index = False)        \n",
    "        \n",
    "    #do the same as above, now looping over all the remaining objects.\n",
    "    for ind in range(len(ids)-1): \n",
    "        p = {\"api_token\":token, \"objectId\":ids[ind+1]} \n",
    "        req = requests.get(url, p) \n",
    "    \n",
    "        if req.status_code == 200 : \n",
    "            js = req.json()\n",
    "            obj_features = [[js[\"ObjectID\"], js[\"Classification\"],js[\"Style\"], js[\"Dated\"], js[\"SocialTags\"] ] ]\n",
    "            df = pd.DataFrame(obj_features, columns =[\"ObjectID\", \"Classification\", \"Style\", \"Dated\", \"SocialTags\"]) \n",
    "            df.to_csv(\"objectinfo.csv\", mode = 'a', index = False, header = False)        \n",
    "\n",
    "    #this slows the computation, since you can make 500 requests per minute.\n",
    "        if ind%498 == 0 : \n",
    "            time.sleep(60)"
   ]
  }
 ],
 "metadata": {
  "kernelspec": {
   "display_name": "Python 3",
   "language": "python",
   "name": "python3"
  },
  "language_info": {
   "codemirror_mode": {
    "name": "ipython",
    "version": 3
   },
   "file_extension": ".py",
   "mimetype": "text/x-python",
   "name": "python",
   "nbconvert_exporter": "python",
   "pygments_lexer": "ipython3",
   "version": "3.6.3"
  }
 },
 "nbformat": 4,
 "nbformat_minor": 2
}
