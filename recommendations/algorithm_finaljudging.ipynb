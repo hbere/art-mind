{
 "cells": [
  {
   "cell_type": "markdown",
   "metadata": {},
   "source": [
    "<font color = \"purple\", size = 4> The ArtMIND algorithm for the two galleries our team is assigned for final judging, Gallery 155 and Gallery 161"
   ]
  },
  {
   "cell_type": "code",
   "execution_count": 1,
   "metadata": {
    "collapsed": true
   },
   "outputs": [],
   "source": [
    "import pandas as pd"
   ]
  },
  {
   "cell_type": "code",
   "execution_count": 2,
   "metadata": {
    "collapsed": true
   },
   "outputs": [],
   "source": [
    "#read the file of manually generated social tags.\n",
    "df = pd.read_excel(\"socialtags.xlsx\")"
   ]
  },
  {
   "cell_type": "code",
   "execution_count": 3,
   "metadata": {},
   "outputs": [
    {
     "data": {
      "text/html": [
       "<div>\n",
       "<style>\n",
       "    .dataframe thead tr:only-child th {\n",
       "        text-align: right;\n",
       "    }\n",
       "\n",
       "    .dataframe thead th {\n",
       "        text-align: left;\n",
       "    }\n",
       "\n",
       "    .dataframe tbody tr th {\n",
       "        vertical-align: top;\n",
       "    }\n",
       "</style>\n",
       "<table border=\"1\" class=\"dataframe\">\n",
       "  <thead>\n",
       "    <tr style=\"text-align: right;\">\n",
       "      <th></th>\n",
       "      <th>ObjectID</th>\n",
       "      <th>Social Tags (Primary)</th>\n",
       "      <th>Title</th>\n",
       "    </tr>\n",
       "  </thead>\n",
       "  <tbody>\n",
       "    <tr>\n",
       "      <th>0</th>\n",
       "      <td>59205</td>\n",
       "      <td>landscape, water, trees, stone, sky, building,...</td>\n",
       "      <td>Bay of L'Estaque</td>\n",
       "    </tr>\n",
       "    <tr>\n",
       "      <th>1</th>\n",
       "      <td>59197</td>\n",
       "      <td>portrait, boy, hat, blue</td>\n",
       "      <td>Boy with a Toy Soldier (Portrait of Jean de La...</td>\n",
       "    </tr>\n",
       "    <tr>\n",
       "      <th>2</th>\n",
       "      <td>59213</td>\n",
       "      <td>person, man, hat, black</td>\n",
       "      <td>Le Bon Bock</td>\n",
       "    </tr>\n",
       "  </tbody>\n",
       "</table>\n",
       "</div>"
      ],
      "text/plain": [
       "   ObjectID                              Social Tags (Primary)  \\\n",
       "0     59205  landscape, water, trees, stone, sky, building,...   \n",
       "1     59197                           portrait, boy, hat, blue   \n",
       "2     59213                            person, man, hat, black   \n",
       "\n",
       "                                               Title  \n",
       "0                                   Bay of L'Estaque  \n",
       "1  Boy with a Toy Soldier (Portrait of Jean de La...  \n",
       "2                                        Le Bon Bock  "
      ]
     },
     "execution_count": 3,
     "metadata": {},
     "output_type": "execute_result"
    }
   ],
   "source": [
    "df.head(3)"
   ]
  },
  {
   "cell_type": "code",
   "execution_count": 4,
   "metadata": {
    "collapsed": true
   },
   "outputs": [],
   "source": [
    "listoftags = [df[\"Social Tags (Primary)\"].iloc[ind].split(\", \") for ind in range(len(df))] "
   ]
  },
  {
   "cell_type": "code",
   "execution_count": 5,
   "metadata": {},
   "outputs": [
    {
     "data": {
      "text/html": [
       "<div>\n",
       "<style>\n",
       "    .dataframe thead tr:only-child th {\n",
       "        text-align: right;\n",
       "    }\n",
       "\n",
       "    .dataframe thead th {\n",
       "        text-align: left;\n",
       "    }\n",
       "\n",
       "    .dataframe tbody tr th {\n",
       "        vertical-align: top;\n",
       "    }\n",
       "</style>\n",
       "<table border=\"1\" class=\"dataframe\">\n",
       "  <thead>\n",
       "    <tr style=\"text-align: right;\">\n",
       "      <th></th>\n",
       "      <th>ObjectID</th>\n",
       "      <th>Social Tags (Primary)</th>\n",
       "      <th>Title</th>\n",
       "      <th>SocialTags</th>\n",
       "    </tr>\n",
       "  </thead>\n",
       "  <tbody>\n",
       "    <tr>\n",
       "      <th>0</th>\n",
       "      <td>59205</td>\n",
       "      <td>landscape, water, trees, stone, sky, building,...</td>\n",
       "      <td>Bay of L'Estaque</td>\n",
       "      <td>[landscape, water, trees, stone, sky, building...</td>\n",
       "    </tr>\n",
       "    <tr>\n",
       "      <th>1</th>\n",
       "      <td>59197</td>\n",
       "      <td>portrait, boy, hat, blue</td>\n",
       "      <td>Boy with a Toy Soldier (Portrait of Jean de La...</td>\n",
       "      <td>[portrait, boy, hat, blue]</td>\n",
       "    </tr>\n",
       "    <tr>\n",
       "      <th>2</th>\n",
       "      <td>59213</td>\n",
       "      <td>person, man, hat, black</td>\n",
       "      <td>Le Bon Bock</td>\n",
       "      <td>[person, man, hat, black]</td>\n",
       "    </tr>\n",
       "  </tbody>\n",
       "</table>\n",
       "</div>"
      ],
      "text/plain": [
       "   ObjectID                              Social Tags (Primary)  \\\n",
       "0     59205  landscape, water, trees, stone, sky, building,...   \n",
       "1     59197                           portrait, boy, hat, blue   \n",
       "2     59213                            person, man, hat, black   \n",
       "\n",
       "                                               Title  \\\n",
       "0                                   Bay of L'Estaque   \n",
       "1  Boy with a Toy Soldier (Portrait of Jean de La...   \n",
       "2                                        Le Bon Bock   \n",
       "\n",
       "                                          SocialTags  \n",
       "0  [landscape, water, trees, stone, sky, building...  \n",
       "1                         [portrait, boy, hat, blue]  \n",
       "2                          [person, man, hat, black]  "
      ]
     },
     "execution_count": 5,
     "metadata": {},
     "output_type": "execute_result"
    }
   ],
   "source": [
    "df[\"SocialTags\"] = listoftags\n",
    "df.head(3)"
   ]
  },
  {
   "cell_type": "code",
   "execution_count": 6,
   "metadata": {
    "collapsed": true
   },
   "outputs": [],
   "source": [
    "df2 = df.drop(\"Social Tags (Primary)\", axis = 1, inplace = False)"
   ]
  },
  {
   "cell_type": "code",
   "execution_count": 7,
   "metadata": {},
   "outputs": [
    {
     "data": {
      "text/plain": [
       "247"
      ]
     },
     "execution_count": 7,
     "metadata": {},
     "output_type": "execute_result"
    }
   ],
   "source": [
    "tags = [item for sublist in listoftags for item in sublist]\n",
    "len(tags)"
   ]
  },
  {
   "cell_type": "code",
   "execution_count": 8,
   "metadata": {
    "collapsed": true
   },
   "outputs": [
    {
     "data": {
      "text/plain": [
       "{' white',\n",
       " 'animal',\n",
       " 'black',\n",
       " 'blue',\n",
       " 'boat',\n",
       " 'boy',\n",
       " 'bridge',\n",
       " 'building',\n",
       " 'cloth',\n",
       " 'detailed',\n",
       " 'flowers',\n",
       " 'gold',\n",
       " 'green',\n",
       " 'hat',\n",
       " 'household item',\n",
       " 'landscape',\n",
       " 'man',\n",
       " 'nude',\n",
       " 'people',\n",
       " 'person',\n",
       " 'pink',\n",
       " 'portrait',\n",
       " 'red',\n",
       " 'sky',\n",
       " 'still life',\n",
       " 'stone',\n",
       " 'tan',\n",
       " 'trees',\n",
       " 'trees,water',\n",
       " 'vase',\n",
       " 'water',\n",
       " 'white',\n",
       " 'woman'}"
      ]
     },
     "execution_count": 8,
     "metadata": {},
     "output_type": "execute_result"
    }
   ],
   "source": [
    "#the unique social tags \n",
    "tags = set(tags)\n",
    "tags"
   ]
  },
  {
   "cell_type": "markdown",
   "metadata": {},
   "source": [
    "<font color = \"purple\"> call the API for information about the works just in gallery 155 and gallery 161"
   ]
  },
  {
   "cell_type": "code",
   "execution_count": 9,
   "metadata": {
    "collapsed": true
   },
   "outputs": [],
   "source": [
    "import numpy as np\n",
    "import itertools \n",
    "import requests"
   ]
  },
  {
   "cell_type": "code",
   "execution_count": 11,
   "metadata": {
    "collapsed": true
   },
   "outputs": [],
   "source": [
    "galleries = [155, 161] "
   ]
  },
  {
   "cell_type": "code",
   "execution_count": 12,
   "metadata": {
    "collapsed": true
   },
   "outputs": [],
   "source": [
    "#ids will be filled with the object ids in the two galleries.\n",
    "ids = []"
   ]
  },
  {
   "cell_type": "code",
   "execution_count": 13,
   "metadata": {},
   "outputs": [],
   "source": [
    "p = {\"api_token\": token, 'name': galleries[0]}\n",
    "req = requests.get(url, p) \n",
    "data = req.json()\n",
    "gal_ids = data[\"ObjectIDs\"]\n"
   ]
  },
  {
   "cell_type": "code",
   "execution_count": 14,
   "metadata": {
    "collapsed": true
   },
   "outputs": [],
   "source": [
    "for name in galleries: \n",
    "    p = {\"api_token\": token, 'name': name}\n",
    "    req = requests.get(url, p) \n",
    "    data = req.json()\n",
    "    gal_ids = data[\"ObjectIDs\"]\n",
    "    ids.append(gal_ids) "
   ]
  },
  {
   "cell_type": "code",
   "execution_count": 15,
   "metadata": {
    "collapsed": true
   },
   "outputs": [],
   "source": [
    "flat_ids = [item for sublist in ids for item in sublist]"
   ]
  },
  {
   "cell_type": "code",
   "execution_count": 17,
   "metadata": {
    "collapsed": true
   },
   "outputs": [],
   "source": [
    "#retrieve information about the objects in the list ids\n",
    "frames = []\n",
    "for objectid in flat_ids : \n",
    "    p = {\"api_token\": token, 'objectId':objectid}\n",
    "    req = requests.get(url,p) \n",
    "    data = req.json()\n",
    "    id_features = [data[\"ObjectID\"], data[\"Classification\"], data[\"Style\"], data[\"Geography\"], data[\"Dated\"]]\n",
    "    frames.append(id_features) "
   ]
  },
  {
   "cell_type": "code",
   "execution_count": 18,
   "metadata": {
    "collapsed": true
   },
   "outputs": [],
   "source": [
    "#convert the information into a Pandas data frame, and write as a csv file. \n",
    "features = pd.DataFrame(frames, columns = [\"ObjectID\", \"Classification\", \"Style\", \"Geography\", \"Date\"])"
   ]
  },
  {
   "cell_type": "code",
   "execution_count": 63,
   "metadata": {},
   "outputs": [
    {
     "data": {
      "text/html": [
       "<div>\n",
       "<style>\n",
       "    .dataframe thead tr:only-child th {\n",
       "        text-align: right;\n",
       "    }\n",
       "\n",
       "    .dataframe thead th {\n",
       "        text-align: left;\n",
       "    }\n",
       "\n",
       "    .dataframe tbody tr th {\n",
       "        vertical-align: top;\n",
       "    }\n",
       "</style>\n",
       "<table border=\"1\" class=\"dataframe\">\n",
       "  <thead>\n",
       "    <tr style=\"text-align: right;\">\n",
       "      <th></th>\n",
       "      <th>ObjectID</th>\n",
       "      <th>Classification</th>\n",
       "      <th>Style</th>\n",
       "      <th>Geography</th>\n",
       "      <th>Date</th>\n",
       "    </tr>\n",
       "  </thead>\n",
       "  <tbody>\n",
       "    <tr>\n",
       "      <th>0</th>\n",
       "      <td>42505</td>\n",
       "      <td>Paintings</td>\n",
       "      <td>Realist</td>\n",
       "      <td>Made in Philadelphia, Pennsylvania, United Sta...</td>\n",
       "      <td>1880</td>\n",
       "    </tr>\n",
       "    <tr>\n",
       "      <th>1</th>\n",
       "      <td>57411</td>\n",
       "      <td>Sculpture</td>\n",
       "      <td>Realist</td>\n",
       "      <td>Made in France, Europe</td>\n",
       "      <td>c. 1874</td>\n",
       "    </tr>\n",
       "  </tbody>\n",
       "</table>\n",
       "</div>"
      ],
      "text/plain": [
       "   ObjectID Classification    Style  \\\n",
       "0     42505      Paintings  Realist   \n",
       "1     57411      Sculpture  Realist   \n",
       "\n",
       "                                           Geography     Date  \n",
       "0  Made in Philadelphia, Pennsylvania, United Sta...     1880  \n",
       "1                             Made in France, Europe  c. 1874  "
      ]
     },
     "execution_count": 63,
     "metadata": {},
     "output_type": "execute_result"
    }
   ],
   "source": [
    "features.head(2)"
   ]
  },
  {
   "cell_type": "code",
   "execution_count": 64,
   "metadata": {
    "collapsed": true
   },
   "outputs": [],
   "source": [
    "features.to_csv(\"limited_objectinfo_final2.csv\") "
   ]
  },
  {
   "cell_type": "markdown",
   "metadata": {},
   "source": [
    "<font color = \"purple\"> algorithm begins here."
   ]
  },
  {
   "cell_type": "markdown",
   "metadata": {},
   "source": [
    "<font color = \"purple\"> feature preprocessing"
   ]
  },
  {
   "cell_type": "code",
   "execution_count": 104,
   "metadata": {
    "scrolled": true
   },
   "outputs": [
    {
     "name": "stderr",
     "output_type": "stream",
     "text": [
      "C:\\Users\\sowmya\\Anaconda3\\lib\\site-packages\\pandas\\core\\indexing.py:179: SettingWithCopyWarning: \n",
      "A value is trying to be set on a copy of a slice from a DataFrame\n",
      "\n",
      "See the caveats in the documentation: http://pandas.pydata.org/pandas-docs/stable/indexing.html#indexing-view-versus-copy\n",
      "  self._setitem_with_indexer(indexer, value)\n"
     ]
    }
   ],
   "source": [
    "#Geography\n",
    "for ind in range(len(features)) : \n",
    "    \n",
    "    if type(features.Geography.iloc[ind]) == str : \n",
    "        \n",
    "        if (\"France\" in features.Geography.iloc[ind]) : \n",
    "            features.Geography.iloc[ind] = \"France\"\n",
    "            \n",
    "        if (\"Italy\" in features.Geography.iloc[ind]) : \n",
    "            features.Geography.iloc[ind] = \"Italy\"\n",
    "            \n",
    "        if (\"England\" in features.Geography.iloc[ind]) | (\"Great Britain\" in features.Geography.iloc[ind]): \n",
    "            features.Geography.iloc[ind] = \"Great Britain\"\n",
    "            \n",
    "        if (\"Belgium\" in features.Geography.iloc[ind]) : \n",
    "            features.Geography.iloc[ind] = \"Belgium\" \n",
    "        \n",
    "        if \"Netherlands\" in features.Geography.iloc[ind] : \n",
    "            features.Geography.iloc[ind] = \"Netherlands\" \n",
    "\n",
    "        if \"Pennsylvania\" in features.Geography.iloc[ind] : \n",
    "            features.Geography.iloc[ind] = \"Pennsylvania\" "
   ]
  },
  {
   "cell_type": "markdown",
   "metadata": {},
   "source": [
    "<font color = \"purple\"> algorithm"
   ]
  },
  {
   "cell_type": "code",
   "execution_count": 19,
   "metadata": {
    "collapsed": true
   },
   "outputs": [],
   "source": [
    "#the ten works from which we determine the user's preferences\n",
    "tenworks = pd.read_excel(\"tenworks.xlsx\")\n",
    "obj = list(tenworks.ObjectID)"
   ]
  },
  {
   "cell_type": "code",
   "execution_count": 114,
   "metadata": {
    "scrolled": true
   },
   "outputs": [
    {
     "data": {
      "text/html": [
       "<div>\n",
       "<style>\n",
       "    .dataframe thead tr:only-child th {\n",
       "        text-align: right;\n",
       "    }\n",
       "\n",
       "    .dataframe thead th {\n",
       "        text-align: left;\n",
       "    }\n",
       "\n",
       "    .dataframe tbody tr th {\n",
       "        vertical-align: top;\n",
       "    }\n",
       "</style>\n",
       "<table border=\"1\" class=\"dataframe\">\n",
       "  <thead>\n",
       "    <tr style=\"text-align: right;\">\n",
       "      <th></th>\n",
       "      <th>Title</th>\n",
       "      <th>SocialTags</th>\n",
       "    </tr>\n",
       "    <tr>\n",
       "      <th>ObjectID</th>\n",
       "      <th></th>\n",
       "      <th></th>\n",
       "    </tr>\n",
       "  </thead>\n",
       "  <tbody>\n",
       "    <tr>\n",
       "      <th>59205</th>\n",
       "      <td>Bay of L'Estaque</td>\n",
       "      <td>[landscape, water, trees, stone, sky, building...</td>\n",
       "    </tr>\n",
       "    <tr>\n",
       "      <th>59197</th>\n",
       "      <td>Boy with a Toy Soldier (Portrait of Jean de La...</td>\n",
       "      <td>[portrait, boy, hat, blue]</td>\n",
       "    </tr>\n",
       "  </tbody>\n",
       "</table>\n",
       "</div>"
      ],
      "text/plain": [
       "                                                      Title  \\\n",
       "ObjectID                                                      \n",
       "59205                                      Bay of L'Estaque   \n",
       "59197     Boy with a Toy Soldier (Portrait of Jean de La...   \n",
       "\n",
       "                                                 SocialTags  \n",
       "ObjectID                                                     \n",
       "59205     [landscape, water, trees, stone, sky, building...  \n",
       "59197                            [portrait, boy, hat, blue]  "
      ]
     },
     "execution_count": 114,
     "metadata": {},
     "output_type": "execute_result"
    }
   ],
   "source": [
    "#reset index in order to create dummy variables for the social tags.\n",
    "df3 = df2.set_index(\"ObjectID\")\n",
    "df3.head(2)"
   ]
  },
  {
   "cell_type": "code",
   "execution_count": 122,
   "metadata": {},
   "outputs": [
    {
     "data": {
      "text/html": [
       "<div>\n",
       "<style>\n",
       "    .dataframe thead tr:only-child th {\n",
       "        text-align: right;\n",
       "    }\n",
       "\n",
       "    .dataframe thead th {\n",
       "        text-align: left;\n",
       "    }\n",
       "\n",
       "    .dataframe tbody tr th {\n",
       "        vertical-align: top;\n",
       "    }\n",
       "</style>\n",
       "<table border=\"1\" class=\"dataframe\">\n",
       "  <thead>\n",
       "    <tr style=\"text-align: right;\">\n",
       "      <th></th>\n",
       "      <th>white</th>\n",
       "      <th>animal</th>\n",
       "      <th>black</th>\n",
       "      <th>blue</th>\n",
       "      <th>boat</th>\n",
       "      <th>boy</th>\n",
       "      <th>bridge</th>\n",
       "      <th>building</th>\n",
       "      <th>cloth</th>\n",
       "      <th>detailed</th>\n",
       "      <th>...</th>\n",
       "      <th>sky</th>\n",
       "      <th>still life</th>\n",
       "      <th>stone</th>\n",
       "      <th>tan</th>\n",
       "      <th>trees</th>\n",
       "      <th>trees,water</th>\n",
       "      <th>vase</th>\n",
       "      <th>water</th>\n",
       "      <th>white</th>\n",
       "      <th>woman</th>\n",
       "    </tr>\n",
       "    <tr>\n",
       "      <th>ObjectID</th>\n",
       "      <th></th>\n",
       "      <th></th>\n",
       "      <th></th>\n",
       "      <th></th>\n",
       "      <th></th>\n",
       "      <th></th>\n",
       "      <th></th>\n",
       "      <th></th>\n",
       "      <th></th>\n",
       "      <th></th>\n",
       "      <th></th>\n",
       "      <th></th>\n",
       "      <th></th>\n",
       "      <th></th>\n",
       "      <th></th>\n",
       "      <th></th>\n",
       "      <th></th>\n",
       "      <th></th>\n",
       "      <th></th>\n",
       "      <th></th>\n",
       "      <th></th>\n",
       "    </tr>\n",
       "  </thead>\n",
       "  <tbody>\n",
       "    <tr>\n",
       "      <th>59205</th>\n",
       "      <td>0</td>\n",
       "      <td>0</td>\n",
       "      <td>0</td>\n",
       "      <td>0</td>\n",
       "      <td>0</td>\n",
       "      <td>0</td>\n",
       "      <td>0</td>\n",
       "      <td>1</td>\n",
       "      <td>0</td>\n",
       "      <td>0</td>\n",
       "      <td>...</td>\n",
       "      <td>1</td>\n",
       "      <td>0</td>\n",
       "      <td>1</td>\n",
       "      <td>0</td>\n",
       "      <td>1</td>\n",
       "      <td>0</td>\n",
       "      <td>0</td>\n",
       "      <td>1</td>\n",
       "      <td>0</td>\n",
       "      <td>0</td>\n",
       "    </tr>\n",
       "    <tr>\n",
       "      <th>59197</th>\n",
       "      <td>0</td>\n",
       "      <td>0</td>\n",
       "      <td>0</td>\n",
       "      <td>1</td>\n",
       "      <td>0</td>\n",
       "      <td>1</td>\n",
       "      <td>0</td>\n",
       "      <td>0</td>\n",
       "      <td>0</td>\n",
       "      <td>0</td>\n",
       "      <td>...</td>\n",
       "      <td>0</td>\n",
       "      <td>0</td>\n",
       "      <td>0</td>\n",
       "      <td>0</td>\n",
       "      <td>0</td>\n",
       "      <td>0</td>\n",
       "      <td>0</td>\n",
       "      <td>0</td>\n",
       "      <td>0</td>\n",
       "      <td>0</td>\n",
       "    </tr>\n",
       "  </tbody>\n",
       "</table>\n",
       "<p>2 rows × 33 columns</p>\n",
       "</div>"
      ],
      "text/plain": [
       "           white  animal  black  blue  boat  boy  bridge  building  cloth  \\\n",
       "ObjectID                                                                    \n",
       "59205          0       0      0     0     0    0       0         1      0   \n",
       "59197          0       0      0     1     0    1       0         0      0   \n",
       "\n",
       "          detailed  ...    sky  still life  stone  tan  trees  trees,water  \\\n",
       "ObjectID            ...                                                      \n",
       "59205            0  ...      1           0      1    0      1            0   \n",
       "59197            0  ...      0           0      0    0      0            0   \n",
       "\n",
       "          vase  water  white  woman  \n",
       "ObjectID                             \n",
       "59205        0      1      0      0  \n",
       "59197        0      0      0      0  \n",
       "\n",
       "[2 rows x 33 columns]"
      ]
     },
     "execution_count": 122,
     "metadata": {},
     "output_type": "execute_result"
    }
   ],
   "source": [
    "s = df3[\"SocialTags\"]\n",
    "dummytags = pd.get_dummies(s.apply(pd.Series).stack()).sum(level=0)\n",
    "dummytags.head(2)"
   ]
  },
  {
   "cell_type": "code",
   "execution_count": 125,
   "metadata": {
    "collapsed": true
   },
   "outputs": [],
   "source": [
    "#merge the table of social tags with the table containing the other features.\n",
    "feat = features.merge(dummytags, left_on = \"ObjectID\", right_index = True, how = 'outer')"
   ]
  },
  {
   "cell_type": "code",
   "execution_count": 127,
   "metadata": {},
   "outputs": [
    {
     "data": {
      "text/html": [
       "<div>\n",
       "<style>\n",
       "    .dataframe thead tr:only-child th {\n",
       "        text-align: right;\n",
       "    }\n",
       "\n",
       "    .dataframe thead th {\n",
       "        text-align: left;\n",
       "    }\n",
       "\n",
       "    .dataframe tbody tr th {\n",
       "        vertical-align: top;\n",
       "    }\n",
       "</style>\n",
       "<table border=\"1\" class=\"dataframe\">\n",
       "  <thead>\n",
       "    <tr style=\"text-align: right;\">\n",
       "      <th></th>\n",
       "      <th>ObjectID</th>\n",
       "      <th>Classification</th>\n",
       "      <th>Style</th>\n",
       "      <th>Geography</th>\n",
       "      <th>Date</th>\n",
       "      <th>white</th>\n",
       "      <th>animal</th>\n",
       "      <th>black</th>\n",
       "      <th>blue</th>\n",
       "      <th>boat</th>\n",
       "      <th>...</th>\n",
       "      <th>sky</th>\n",
       "      <th>still life</th>\n",
       "      <th>stone</th>\n",
       "      <th>tan</th>\n",
       "      <th>trees</th>\n",
       "      <th>trees,water</th>\n",
       "      <th>vase</th>\n",
       "      <th>water</th>\n",
       "      <th>white</th>\n",
       "      <th>woman</th>\n",
       "    </tr>\n",
       "  </thead>\n",
       "  <tbody>\n",
       "    <tr>\n",
       "      <th>0</th>\n",
       "      <td>42505</td>\n",
       "      <td>Paintings</td>\n",
       "      <td>Realist</td>\n",
       "      <td>Pennsylvania</td>\n",
       "      <td>1880</td>\n",
       "      <td>0</td>\n",
       "      <td>0</td>\n",
       "      <td>0</td>\n",
       "      <td>0</td>\n",
       "      <td>0</td>\n",
       "      <td>...</td>\n",
       "      <td>0</td>\n",
       "      <td>0</td>\n",
       "      <td>0</td>\n",
       "      <td>0</td>\n",
       "      <td>0</td>\n",
       "      <td>0</td>\n",
       "      <td>0</td>\n",
       "      <td>0</td>\n",
       "      <td>1</td>\n",
       "      <td>0</td>\n",
       "    </tr>\n",
       "    <tr>\n",
       "      <th>1</th>\n",
       "      <td>57411</td>\n",
       "      <td>Sculpture</td>\n",
       "      <td>Realist</td>\n",
       "      <td>France</td>\n",
       "      <td>1874</td>\n",
       "      <td>0</td>\n",
       "      <td>1</td>\n",
       "      <td>0</td>\n",
       "      <td>0</td>\n",
       "      <td>0</td>\n",
       "      <td>...</td>\n",
       "      <td>0</td>\n",
       "      <td>0</td>\n",
       "      <td>0</td>\n",
       "      <td>0</td>\n",
       "      <td>0</td>\n",
       "      <td>0</td>\n",
       "      <td>0</td>\n",
       "      <td>0</td>\n",
       "      <td>0</td>\n",
       "      <td>1</td>\n",
       "    </tr>\n",
       "  </tbody>\n",
       "</table>\n",
       "<p>2 rows × 38 columns</p>\n",
       "</div>"
      ],
      "text/plain": [
       "   ObjectID Classification    Style     Geography  Date   white  animal  \\\n",
       "0     42505      Paintings  Realist  Pennsylvania  1880       0       0   \n",
       "1     57411      Sculpture  Realist        France  1874       0       1   \n",
       "\n",
       "   black  blue  boat  ...    sky  still life  stone  tan  trees  trees,water  \\\n",
       "0      0     0     0  ...      0           0      0    0      0            0   \n",
       "1      0     0     0  ...      0           0      0    0      0            0   \n",
       "\n",
       "   vase  water  white  woman  \n",
       "0     0      0      1      0  \n",
       "1     0      0      0      1  \n",
       "\n",
       "[2 rows x 38 columns]"
      ]
     },
     "execution_count": 127,
     "metadata": {},
     "output_type": "execute_result"
    }
   ],
   "source": [
    "feat.drop(\"SocialTags\", axis = 1, inplace = True) \n",
    "feat.head(2)"
   ]
  },
  {
   "cell_type": "code",
   "execution_count": 129,
   "metadata": {
    "collapsed": true
   },
   "outputs": [],
   "source": [
    "#create dummy variables for the remaining features.\n",
    "feat.drop(\"Date\", axis = 1, inplace = True)\n",
    "feat = pd.get_dummies(feat, columns = [\"Classification\", \"Style\", \"Geography\"])"
   ]
  },
  {
   "cell_type": "code",
   "execution_count": 130,
   "metadata": {},
   "outputs": [
    {
     "data": {
      "text/html": [
       "<div>\n",
       "<style>\n",
       "    .dataframe thead tr:only-child th {\n",
       "        text-align: right;\n",
       "    }\n",
       "\n",
       "    .dataframe thead th {\n",
       "        text-align: left;\n",
       "    }\n",
       "\n",
       "    .dataframe tbody tr th {\n",
       "        vertical-align: top;\n",
       "    }\n",
       "</style>\n",
       "<table border=\"1\" class=\"dataframe\">\n",
       "  <thead>\n",
       "    <tr style=\"text-align: right;\">\n",
       "      <th></th>\n",
       "      <th>white</th>\n",
       "      <th>animal</th>\n",
       "      <th>black</th>\n",
       "      <th>blue</th>\n",
       "      <th>boat</th>\n",
       "      <th>boy</th>\n",
       "      <th>bridge</th>\n",
       "      <th>building</th>\n",
       "      <th>cloth</th>\n",
       "      <th>detailed</th>\n",
       "      <th>...</th>\n",
       "      <th>Style_Post-Impressionist</th>\n",
       "      <th>Style_Realist</th>\n",
       "      <th>Style_Romantic</th>\n",
       "      <th>Style_Symbolist</th>\n",
       "      <th>Geography_Belgium</th>\n",
       "      <th>Geography_France</th>\n",
       "      <th>Geography_Great Britain</th>\n",
       "      <th>Geography_Italy</th>\n",
       "      <th>Geography_Netherlands</th>\n",
       "      <th>Geography_Pennsylvania</th>\n",
       "    </tr>\n",
       "    <tr>\n",
       "      <th>ObjectID</th>\n",
       "      <th></th>\n",
       "      <th></th>\n",
       "      <th></th>\n",
       "      <th></th>\n",
       "      <th></th>\n",
       "      <th></th>\n",
       "      <th></th>\n",
       "      <th></th>\n",
       "      <th></th>\n",
       "      <th></th>\n",
       "      <th></th>\n",
       "      <th></th>\n",
       "      <th></th>\n",
       "      <th></th>\n",
       "      <th></th>\n",
       "      <th></th>\n",
       "      <th></th>\n",
       "      <th></th>\n",
       "      <th></th>\n",
       "      <th></th>\n",
       "      <th></th>\n",
       "    </tr>\n",
       "  </thead>\n",
       "  <tbody>\n",
       "    <tr>\n",
       "      <th>42505</th>\n",
       "      <td>0</td>\n",
       "      <td>0</td>\n",
       "      <td>0</td>\n",
       "      <td>0</td>\n",
       "      <td>0</td>\n",
       "      <td>0</td>\n",
       "      <td>0</td>\n",
       "      <td>0</td>\n",
       "      <td>1</td>\n",
       "      <td>0</td>\n",
       "      <td>...</td>\n",
       "      <td>0</td>\n",
       "      <td>1</td>\n",
       "      <td>0</td>\n",
       "      <td>0</td>\n",
       "      <td>0</td>\n",
       "      <td>0</td>\n",
       "      <td>0</td>\n",
       "      <td>0</td>\n",
       "      <td>0</td>\n",
       "      <td>1</td>\n",
       "    </tr>\n",
       "  </tbody>\n",
       "</table>\n",
       "<p>1 rows × 50 columns</p>\n",
       "</div>"
      ],
      "text/plain": [
       "           white  animal  black  blue  boat  boy  bridge  building  cloth  \\\n",
       "ObjectID                                                                    \n",
       "42505          0       0      0     0     0    0       0         0      1   \n",
       "\n",
       "          detailed           ...            Style_Post-Impressionist  \\\n",
       "ObjectID                     ...                                       \n",
       "42505            0           ...                                   0   \n",
       "\n",
       "          Style_Realist  Style_Romantic  Style_Symbolist  Geography_Belgium  \\\n",
       "ObjectID                                                                      \n",
       "42505                 1               0                0                  0   \n",
       "\n",
       "          Geography_France  Geography_Great Britain  Geography_Italy  \\\n",
       "ObjectID                                                               \n",
       "42505                    0                        0                0   \n",
       "\n",
       "          Geography_Netherlands  Geography_Pennsylvania  \n",
       "ObjectID                                                 \n",
       "42505                         0                       1  \n",
       "\n",
       "[1 rows x 50 columns]"
      ]
     },
     "execution_count": 130,
     "metadata": {},
     "output_type": "execute_result"
    }
   ],
   "source": [
    "df_feat = feat.set_index(\"ObjectID\")\n",
    "df_feat.head(1)"
   ]
  },
  {
   "cell_type": "code",
   "execution_count": 141,
   "metadata": {
    "collapsed": true
   },
   "outputs": [],
   "source": [
    "#function that inputs a list of objects the user is shown and a list of their preferences, \n",
    "#and outputs the top 3 recommendations \n",
    "#the function makes use of df_feat from above \n",
    "\n",
    "def featmat(obj, pref) : \n",
    "    #feature_matrix will contain only the ten rows corresponding to the art shown to the user\n",
    "    feature_matrix = df_feat.loc[obj]\n",
    "\n",
    "    adapted_matrix = np.zeros((10,np.shape(feature_matrix)[1] )) \n",
    "\n",
    "    for i in range(len(pref)) : \n",
    "        adapted_matrix[i] = pref[i] * feature_matrix.iloc[i]\n",
    "\n",
    "    #for each column, find the mean\n",
    "    feature_means = adapted_matrix.mean(axis = 0) \n",
    " \n",
    "    norms = []\n",
    "    for ind in df_feat.index : \n",
    "        norms.append({\"objid\":ind, \"norm\":np.linalg.norm(np.array(df_feat.loc[ind])-np.array(feature_means), ord = 1)})\n",
    "    norms_df = pd.DataFrame(norms)\n",
    "    norms_df.sort_values(\"norm\", axis =0, inplace = True)\n",
    "\n",
    "    normalized = [1-1/(1+norms_df.norm.iloc[i]) for i in range(len(norms_df))]\n",
    "    norms_df[\"normalized\"] = normalized \n",
    "    norms_df.sort_values(\"normalized\", axis = 0, ascending = False, inplace = True) \n",
    "\n",
    "    return(norms_df.head(3))"
   ]
  }
 ],
 "metadata": {
  "kernelspec": {
   "display_name": "Python 3",
   "language": "python",
   "name": "python3"
  },
  "language_info": {
   "codemirror_mode": {
    "name": "ipython",
    "version": 3
   },
   "file_extension": ".py",
   "mimetype": "text/x-python",
   "name": "python",
   "nbconvert_exporter": "python",
   "pygments_lexer": "ipython3",
   "version": "3.6.3"
  }
 },
 "nbformat": 4,
 "nbformat_minor": 2
}
